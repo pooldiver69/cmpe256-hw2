{
 "cells": [
  {
   "cell_type": "code",
   "execution_count": 2,
   "metadata": {},
   "outputs": [
    {
     "name": "stdout",
     "output_type": "stream",
     "text": [
      "GPU Available:  False\n",
      "Tensorflow Version:  2.2.0\n",
      "Keras Version:  2.3.0-tf\n",
      "[]\n"
     ]
    }
   ],
   "source": [
    "import tensorflow as tf\n",
    "print(\"GPU Available: \", tf.test.is_gpu_available())\n",
    "\n",
    "print(\"Tensorflow Version: \", tf.__version__)\n",
    "print(\"Keras Version: \", tf.keras.__version__)\n",
    "\n",
    "#check GPU\n",
    "physical_devices = tf.config.experimental.list_physical_devices('GPU')\n",
    "print(physical_devices)"
   ]
  },
  {
   "cell_type": "code",
   "execution_count": 6,
   "metadata": {},
   "outputs": [
    {
     "name": "stdout",
     "output_type": "stream",
     "text": [
      "Traceback (most recent call last):\n",
      "  File \"models/research/object_detection/model_main_tf2.py\", line 30, in <module>\n",
      "    from absl import flags\n",
      "ModuleNotFoundError: No module named 'absl'\n"
     ]
    }
   ],
   "source": [
    "PIPELINE_CONFIG_PATH='./faster_rcnn_resnet101_v1_640x640_coco17_tpu-8.config'\n",
    "MODEL_DIR='./myoutputmodel'\n",
    "!python models/research/object_detection/model_main_tf2.py \\\n",
    "    --pipeline_config_path={PIPELINE_CONFIG_PATH} \\\n",
    "    --model_dir={MODEL_DIR} \\\n",
    "    --alsologtostderr"
   ]
  },
  {
   "cell_type": "code",
   "execution_count": null,
   "metadata": {},
   "outputs": [],
   "source": []
  }
 ],
 "metadata": {
  "kernelspec": {
   "display_name": "venv-3.6.6-gpu",
   "language": "python",
   "name": "venv-3.6.6-gpu"
  },
  "language_info": {
   "codemirror_mode": {
    "name": "ipython",
    "version": 3
   },
   "file_extension": ".py",
   "mimetype": "text/x-python",
   "name": "python",
   "nbconvert_exporter": "python",
   "pygments_lexer": "ipython3",
   "version": "3.6.6"
  }
 },
 "nbformat": 4,
 "nbformat_minor": 4
}
